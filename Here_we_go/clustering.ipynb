{
 "cells": [
  {
   "cell_type": "code",
   "outputs": [
    {
     "name": "stderr",
     "output_type": "stream",
     "text": [
      "C:\\Users\\zarub\\PycharmProjects\\nto_cv\\venv\\lib\\site-packages\\huggingface_hub\\file_download.py:655: FutureWarning: 'cached_download' is the legacy way to download files from the HF hub, please consider upgrading to 'hf_hub_download'\n",
      "  warnings.warn(\n"
     ]
    }
   ],
   "source": [
    "import numpy as np\n",
    "import torch\n",
    "import base64\n",
    "import matplotlib.pyplot as plt\n",
    "from PIL import Image\n",
    "from io import BytesIO\n",
    "import warnings\n",
    "import csv\n",
    "import ruclip\n",
    "\n",
    "from torchvision.transforms import Compose, Resize, CenterCrop, ToTensor\n",
    "\n",
    "csv.field_size_limit(2147483647)\n",
    "\n",
    "warnings.filterwarnings(\"ignore\", category=UserWarning)\n",
    "model, processor = ruclip.load(\"ruclip-vit-base-patch32-384\")\n",
    "\n",
    "def get_image(bs4):\n",
    "    return Image.open(BytesIO(base64.b64decode(bs4)))\n",
    "\n",
    "with open('test_v3.csv', 'r', newline='', encoding='utf-8') as csvfile:\n",
    "    csvreader = csv.reader(csvfile)\n",
    "    mreader = list(csvreader)\n",
    "\n",
    "images = [get_image(bs4_url[1]) for bs4_url in mreader[1:]]\n",
    "y_pred = [bs4_url[2] for bs4_url in mreader[1:]]\n",
    "# print(y_pred)\n",
    "\n",
    "classes = ['архитектура', 'зоопарк', 'музей', 'памятник', 'парк', 'пляж',\n",
    "           'развлекательный центр', 'религия', 'театр', 'фонтан']\n",
    "templates = ['{}', 'это {}', 'на фото {}']"
   ],
   "metadata": {
    "collapsed": false,
    "ExecuteTime": {
     "end_time": "2024-02-27T20:22:17.360364800Z",
     "start_time": "2024-02-27T20:22:10.082761900Z"
    }
   },
   "id": "de4e194d9f06b275",
   "execution_count": 2
  },
  {
   "cell_type": "code",
   "outputs": [
    {
     "name": "stderr",
     "output_type": "stream",
     "text": [
      "490it [02:28,  3.31it/s]\n"
     ]
    }
   ],
   "source": [
    "predictor = ruclip.Predictor(model, processor, device='cpu', bs=8, templates=templates)\n",
    "with torch.no_grad():\n",
    "    text_latents = predictor.get_text_latents(classes)\n",
    "    pred_labels = predictor.run(images, text_latents)\n",
    "\n",
    "    # image_latents = predictor.get_image_latents(images)\n",
    "    # probs = softmax(image_latents, text_latents)\n",
    "\n",
    "    "
   ],
   "metadata": {
    "collapsed": false,
    "ExecuteTime": {
     "end_time": "2024-02-27T20:24:58.843767500Z",
     "start_time": "2024-02-27T20:22:27.268737500Z"
    }
   },
   "id": "164c7995309b9b22",
   "execution_count": 3
  },
  {
   "cell_type": "code",
   "outputs": [
    {
     "name": "stdout",
     "output_type": "stream",
     "text": [
      "['архитектура', 'архитектура', 'архитектура', 'архитектура', 'архитектура', 'архитектура', 'архитектура', 'архитектура', 'архитектура', 'архитектура']\n",
      "['театр' 'театр' 'театр' 'театр' 'архитектура' 'театр' 'театр'\n",
      " 'архитектура' 'театр' 'театр']\n"
     ]
    }
   ],
   "source": [
    "y_test = np.array([classes[pred_label] for pred_label in pred_labels])\n",
    "print(y_pred[:10])\n",
    "print(y_test[:10])"
   ],
   "metadata": {
    "collapsed": false,
    "ExecuteTime": {
     "end_time": "2024-02-27T20:26:39.381164100Z",
     "start_time": "2024-02-27T20:26:39.366133800Z"
    }
   },
   "id": "bfe85aba0369a212",
   "execution_count": 6
  },
  {
   "cell_type": "code",
   "outputs": [
    {
     "name": "stdout",
     "output_type": "stream",
     "text": [
      "{'архитектура': 6, 'зоопарк': 49, 'музей': 40, 'памятник': 47, 'парк': 25, 'пляж': 40, 'развлекательный центр': 41, 'религия': 24, 'театр': 44, 'фонтан': 39}\n"
     ]
    }
   ],
   "source": [
    "result = {'архитектура': 0, 'зоопарк': 0, 'музей': 0, 'памятник': 0, 'парк': 0, 'пляж': 0,\n",
    "           'развлекательный центр': 0, 'религия': 0, 'театр': 0, 'фонтан': 0}\n",
    "for test, pred in zip(y_test, y_pred):\n",
    "    if test == pred:\n",
    "        result[test] += 1\n",
    "\n",
    "print(result)"
   ],
   "metadata": {
    "collapsed": false,
    "ExecuteTime": {
     "end_time": "2024-02-27T20:30:25.248020800Z",
     "start_time": "2024-02-27T20:30:25.231923Z"
    }
   },
   "id": "4b49cad2b2995cc3",
   "execution_count": 11
  },
  {
   "cell_type": "code",
   "outputs": [
    {
     "name": "stdout",
     "output_type": "stream",
     "text": [
      "{'архитектура': 49, 'зоопарк': 49, 'музей': 49, 'памятник': 49, 'парк': 49, 'пляж': 49, 'развлекательный центр': 49, 'религия': 49, 'театр': 49, 'фонтан': 49}\n"
     ]
    }
   ],
   "source": [
    "win_result = {i: y_pred.count(i) for i in y_pred}\n",
    "print(win_result)"
   ],
   "metadata": {
    "collapsed": false,
    "ExecuteTime": {
     "end_time": "2024-02-27T20:31:44.136974400Z",
     "start_time": "2024-02-27T20:31:44.103752100Z"
    }
   },
   "id": "4fc04f068942e3c7",
   "execution_count": 13
  },
  {
   "cell_type": "code",
   "outputs": [
    {
     "name": "stdout",
     "output_type": "stream",
     "text": [
      "архитектура 0.12\n",
      "зоопарк 1.0\n",
      "музей 0.82\n",
      "памятник 0.96\n",
      "парк 0.51\n",
      "пляж 0.82\n",
      "развлекательный центр 0.84\n",
      "религия 0.49\n",
      "театр 0.9\n",
      "фонтан 0.8\n"
     ]
    }
   ],
   "source": [
    "for i, key in result.items():\n",
    "    accuracy = key / win_result[i]\n",
    "    print(i, round(accuracy, 2))"
   ],
   "metadata": {
    "collapsed": false,
    "ExecuteTime": {
     "end_time": "2024-02-27T20:32:59.596506400Z",
     "start_time": "2024-02-27T20:32:59.577507700Z"
    }
   },
   "id": "678f114612a334b8",
   "execution_count": 17
  },
  {
   "cell_type": "code",
   "outputs": [],
   "source": [],
   "metadata": {
    "collapsed": false
   },
   "id": "dd7825c09efb4768"
  }
 ],
 "metadata": {
  "kernelspec": {
   "display_name": "Python 3",
   "language": "python",
   "name": "python3"
  },
  "language_info": {
   "codemirror_mode": {
    "name": "ipython",
    "version": 2
   },
   "file_extension": ".py",
   "mimetype": "text/x-python",
   "name": "python",
   "nbconvert_exporter": "python",
   "pygments_lexer": "ipython2",
   "version": "2.7.6"
  }
 },
 "nbformat": 4,
 "nbformat_minor": 5
}
